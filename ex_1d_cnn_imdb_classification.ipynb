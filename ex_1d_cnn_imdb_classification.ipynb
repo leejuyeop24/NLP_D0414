{
  "cells": [
    {
      "cell_type": "markdown",
      "metadata": {
        "id": "SiQF8jOQ1YZx"
      },
      "source": [
        "#### 데이터 로드 및 단어 토큰화"
      ]
    },
    {
      "cell_type": "markdown",
      "metadata": {},
      "source": [
        "#### [리뷰 감성 분석]  \n",
        "- 데이터셋 : IMDb_Review.csv  \n",
        "- 시계열/자연어 데이터를 Convolution Layer 처리"
      ]
    },
    {
      "cell_type": "code",
      "execution_count": 9,
      "metadata": {
        "id": "_VadDiFC0Yi_"
      },
      "outputs": [],
      "source": [
        "## 모듈 다운로드\n",
        "## - 데이터 분석 및 시각화\n",
        "import pandas as pd\n",
        "import numpy as np\n",
        "import matplotlib.pyplot as plt\t\t\t\n",
        "from tqdm import tqdm\t\t\t\t\t\t## 진행상황 시각화 프로그레스바 progressbar\n",
        "\n",
        "## - 형태소 분석기 (영어)\n",
        "import nltk\n",
        "from nltk.tokenize import word_tokenize\n",
        "\n",
        "## Pytorch 관련\n",
        "import torch\n",
        "\n",
        "## - 데이터셋 : 학습용/검증용/테스트용 분리 \n",
        "from sklearn.model_selection import train_test_split\n",
        "\n",
        "## - Vocab 생성 시 단어 빈도 처리 위한 Python 기본 모듈듈\n",
        "from collections import Counter"
      ]
    },
    {
      "cell_type": "code",
      "execution_count": 10,
      "metadata": {
        "colab": {
          "base_uri": "https://localhost:8080/"
        },
        "id": "ArqCor5F2quy",
        "outputId": "225324b3-96b8-4492-d9ef-3d4945a7cb45"
      },
      "outputs": [],
      "source": [
        "## 데이터 준비\n",
        "DATA_FILE = '../data/IMDb_Reviews.csv'"
      ]
    },
    {
      "cell_type": "code",
      "execution_count": 11,
      "metadata": {
        "id": "3bsOZMs22jF1"
      },
      "outputs": [
        {
          "name": "stdout",
          "output_type": "stream",
          "text": [
            "<class 'pandas.core.frame.DataFrame'>\n",
            "RangeIndex: 50000 entries, 0 to 49999\n",
            "Data columns (total 2 columns):\n",
            " #   Column     Non-Null Count  Dtype \n",
            "---  ------     --------------  ----- \n",
            " 0   review     50000 non-null  object\n",
            " 1   sentiment  50000 non-null  int64 \n",
            "dtypes: int64(1), object(1)\n",
            "memory usage: 781.4+ KB\n"
          ]
        }
      ],
      "source": [
        "## 데이터 로딩 및 기본 정보 확인\n",
        "df = pd.read_csv(DATA_FILE)\n",
        "df.info()"
      ]
    },
    {
      "cell_type": "code",
      "execution_count": 12,
      "metadata": {
        "colab": {
          "base_uri": "https://localhost:8080/",
          "height": 423
        },
        "id": "tRNsajUL0xDW",
        "outputId": "729837dc-43de-4fa9-b72b-162973ae984c"
      },
      "outputs": [
        {
          "data": {
            "text/html": [
              "<div>\n",
              "<style scoped>\n",
              "    .dataframe tbody tr th:only-of-type {\n",
              "        vertical-align: middle;\n",
              "    }\n",
              "\n",
              "    .dataframe tbody tr th {\n",
              "        vertical-align: top;\n",
              "    }\n",
              "\n",
              "    .dataframe thead th {\n",
              "        text-align: right;\n",
              "    }\n",
              "</style>\n",
              "<table border=\"1\" class=\"dataframe\">\n",
              "  <thead>\n",
              "    <tr style=\"text-align: right;\">\n",
              "      <th></th>\n",
              "      <th>review</th>\n",
              "      <th>sentiment</th>\n",
              "    </tr>\n",
              "  </thead>\n",
              "  <tbody>\n",
              "    <tr>\n",
              "      <th>0</th>\n",
              "      <td>My family and I normally do not watch local mo...</td>\n",
              "      <td>1</td>\n",
              "    </tr>\n",
              "    <tr>\n",
              "      <th>1</th>\n",
              "      <td>Believe it or not, this was at one time the wo...</td>\n",
              "      <td>0</td>\n",
              "    </tr>\n",
              "  </tbody>\n",
              "</table>\n",
              "</div>"
            ],
            "text/plain": [
              "                                              review  sentiment\n",
              "0  My family and I normally do not watch local mo...          1\n",
              "1  Believe it or not, this was at one time the wo...          0"
            ]
          },
          "execution_count": 12,
          "metadata": {},
          "output_type": "execute_result"
        }
      ],
      "source": [
        "df.head(2)"
      ]
    },
    {
      "cell_type": "code",
      "execution_count": 13,
      "metadata": {
        "colab": {
          "base_uri": "https://localhost:8080/"
        },
        "id": "c_CHliVU3Dz-",
        "outputId": "b27e04a3-458c-4a7b-d1a0-d0a0448ff41d"
      },
      "outputs": [
        {
          "name": "stdout",
          "output_type": "stream",
          "text": [
            "결측값 여부 : False\n"
          ]
        }
      ],
      "source": [
        "print('결측값 여부 :',df.isnull().values.any())"
      ]
    },
    {
      "cell_type": "code",
      "execution_count": 14,
      "metadata": {
        "colab": {
          "base_uri": "https://localhost:8080/",
          "height": 514
        },
        "id": "k6HQLmIY3Hrm",
        "outputId": "b7ec1913-cb4b-40a6-c6c2-6ad1e77c409a"
      },
      "outputs": [
        {
          "data": {
            "text/plain": [
              "<Axes: xlabel='sentiment'>"
            ]
          },
          "execution_count": 14,
          "metadata": {},
          "output_type": "execute_result"
        },
        {
          "data": {
            "image/png": "[encoded data removed]",
            "text/plain": [
              "<Figure size 640x480 with 1 Axes>"
            ]
          },
          "metadata": {},
          "output_type": "display_data"
        }
      ],
      "source": [
        "## pandas에 plot(kind=시각화그래프설정) 메서드\n",
        "df['sentiment'].value_counts().plot(kind='bar')"
      ]
    },
    {
      "cell_type": "code",
      "execution_count": 15,
      "metadata": {
        "colab": {
          "base_uri": "https://localhost:8080/"
        },
        "id": "uaKiiGxj3LPV",
        "outputId": "4b884e75-bae9-4676-9978-7ee7acdd3ebd"
      },
      "outputs": [
        {
          "name": "stdout",
          "output_type": "stream",
          "text": [
            "레이블 개수\n",
            "   sentiment  count\n",
            "0          0  25000\n",
            "1          1  25000\n"
          ]
        }
      ],
      "source": [
        "print('레이블 개수')\n",
        "print(df.groupby('sentiment').size().reset_index(name='count'))"
      ]
    },
    {
      "cell_type": "code",
      "execution_count": 16,
      "metadata": {
        "id": "jSsULLly6Ey5"
      },
      "outputs": [],
      "source": [
        "df['sentiment'] = df['sentiment'].replace(['positive','negative'],[1, 0])"
      ]
    },
    {
      "cell_type": "code",
      "execution_count": 17,
      "metadata": {
        "colab": {
          "base_uri": "https://localhost:8080/",
          "height": 206
        },
        "id": "efggOjx26R04",
        "outputId": "477404e5-6cb2-4209-f6db-9f366c05194f"
      },
      "outputs": [
        {
          "data": {
            "text/html": [
              "<div>\n",
              "<style scoped>\n",
              "    .dataframe tbody tr th:only-of-type {\n",
              "        vertical-align: middle;\n",
              "    }\n",
              "\n",
              "    .dataframe tbody tr th {\n",
              "        vertical-align: top;\n",
              "    }\n",
              "\n",
              "    .dataframe thead th {\n",
              "        text-align: right;\n",
              "    }\n",
              "</style>\n",
              "<table border=\"1\" class=\"dataframe\">\n",
              "  <thead>\n",
              "    <tr style=\"text-align: right;\">\n",
              "      <th></th>\n",
              "      <th>review</th>\n",
              "      <th>sentiment</th>\n",
              "    </tr>\n",
              "  </thead>\n",
              "  <tbody>\n",
              "    <tr>\n",
              "      <th>0</th>\n",
              "      <td>My family and I normally do not watch local mo...</td>\n",
              "      <td>1</td>\n",
              "    </tr>\n",
              "    <tr>\n",
              "      <th>1</th>\n",
              "      <td>Believe it or not, this was at one time the wo...</td>\n",
              "      <td>0</td>\n",
              "    </tr>\n",
              "    <tr>\n",
              "      <th>2</th>\n",
              "      <td>After some internet surfing, I found the \"Home...</td>\n",
              "      <td>0</td>\n",
              "    </tr>\n",
              "    <tr>\n",
              "      <th>3</th>\n",
              "      <td>One of the most unheralded great works of anim...</td>\n",
              "      <td>1</td>\n",
              "    </tr>\n",
              "    <tr>\n",
              "      <th>4</th>\n",
              "      <td>It was the Sixties, and anyone with long hair ...</td>\n",
              "      <td>0</td>\n",
              "    </tr>\n",
              "  </tbody>\n",
              "</table>\n",
              "</div>"
            ],
            "text/plain": [
              "                                              review  sentiment\n",
              "0  My family and I normally do not watch local mo...          1\n",
              "1  Believe it or not, this was at one time the wo...          0\n",
              "2  After some internet surfing, I found the \"Home...          0\n",
              "3  One of the most unheralded great works of anim...          1\n",
              "4  It was the Sixties, and anyone with long hair ...          0"
            ]
          },
          "execution_count": 17,
          "metadata": {},
          "output_type": "execute_result"
        }
      ],
      "source": [
        "df.head()"
      ]
    },
    {
      "cell_type": "code",
      "execution_count": 18,
      "metadata": {
        "colab": {
          "base_uri": "https://localhost:8080/"
        },
        "id": "xsW64xI86clD",
        "outputId": "33dc2f15-6922-49c1-c491-543ec887d348"
      },
      "outputs": [
        {
          "name": "stdout",
          "output_type": "stream",
          "text": [
            "영화 리뷰의 개수: 50000\n",
            "레이블의 개수: 50000\n"
          ]
        }
      ],
      "source": [
        "X_data = df['review']\n",
        "y_data = df['sentiment']\n",
        "print('영화 리뷰의 개수: {}'.format(len(X_data)))\n",
        "print('레이블의 개수: {}'.format(len(y_data)))"
      ]
    },
    {
      "cell_type": "markdown",
      "metadata": {},
      "source": [
        "- 데이터셋 분리 : 학습용/검증용/테스트용 분리"
      ]
    },
    {
      "cell_type": "code",
      "execution_count": 19,
      "metadata": {
        "id": "kbgqOpV03RU-"
      },
      "outputs": [],
      "source": [
        "X_train, X_test, y_train, y_test = train_test_split(X_data, y_data, test_size=0.5, random_state=0, stratify=y_data)"
      ]
    },
    {
      "cell_type": "code",
      "execution_count": 20,
      "metadata": {
        "id": "g9ZcLCOv1dZK"
      },
      "outputs": [],
      "source": [
        "X_train, X_valid, y_train, y_valid = train_test_split(X_train, y_train, test_size=.2, random_state=0, stratify=y_train)"
      ]
    },
    {
      "cell_type": "code",
      "execution_count": 21,
      "metadata": {
        "colab": {
          "base_uri": "https://localhost:8080/"
        },
        "id": "apZV8mQv6iEO",
        "outputId": "41f98b79-c679-444c-c2c4-49fc9cd6d281"
      },
      "outputs": [
        {
          "name": "stdout",
          "output_type": "stream",
          "text": [
            "--------훈련 데이터의 비율-----------\n",
            "부정 리뷰 = 50.0%\n",
            "긍정 리뷰 = 50.0%\n",
            "--------검증 데이터의 비율-----------\n",
            "부정 리뷰 = 50.0%\n",
            "긍정 리뷰 = 50.0%\n",
            "--------테스트 데이터의 비율-----------\n",
            "부정 리뷰 = 50.0%\n",
            "긍정 리뷰 = 50.0%\n"
          ]
        }
      ],
      "source": [
        "print('--------훈련 데이터의 비율-----------')\n",
        "print(f'부정 리뷰 = {round(y_train.value_counts()[0]/len(y_train) * 100,3)}%')\n",
        "print(f'긍정 리뷰 = {round(y_train.value_counts()[1]/len(y_train) * 100,3)}%')\n",
        "print('--------검증 데이터의 비율-----------')\n",
        "print(f'부정 리뷰 = {round(y_valid.value_counts()[0]/len(y_valid) * 100,3)}%')\n",
        "print(f'긍정 리뷰 = {round(y_valid.value_counts()[1]/len(y_valid) * 100,3)}%')\n",
        "print('--------테스트 데이터의 비율-----------')\n",
        "print(f'부정 리뷰 = {round(y_test.value_counts()[0]/len(y_test) * 100,3)}%')\n",
        "print(f'긍정 리뷰 = {round(y_test.value_counts()[1]/len(y_test) * 100,3)}%')"
      ]
    },
    {
      "cell_type": "markdown",
      "metadata": {},
      "source": [
        "- 단어사전 생성 <hr>"
      ]
    },
    {
      "cell_type": "code",
      "execution_count": 22,
      "metadata": {
        "id": "zmLbvkWgI1ux"
      },
      "outputs": [],
      "source": [
        "## 토큰화 진행 가능 함수수\n",
        "def tokenize(sentences):\n",
        "  tokenized_sentences = []\n",
        "  for sent in tqdm(sentences):\n",
        "    tokenized_sent = word_tokenize(sent)\n",
        "    tokenized_sent = [word.lower() for word in tokenized_sent]\n",
        "    ## 불용어 제거, 원형 복원, 구두점 추가해서 정리\n",
        "    tokenized_sentences.append(tokenized_sent)\n",
        "  return tokenized_sentences"
      ]
    },
    {
      "cell_type": "code",
      "execution_count": 23,
      "metadata": {
        "colab": {
          "base_uri": "https://localhost:8080/"
        },
        "id": "9dci3nK4Jp7k",
        "outputId": "68f8592d-fb0c-4634-a458-bb267186cd34"
      },
      "outputs": [
        {
          "name": "stderr",
          "output_type": "stream",
          "text": [
            "100%|██████████| 20000/20000 [00:26<00:00, 750.21it/s]\n",
            "100%|██████████| 5000/5000 [00:06<00:00, 757.01it/s]\n",
            "100%|██████████| 25000/25000 [00:31<00:00, 787.70it/s]\n"
          ]
        }
      ],
      "source": [
        "tokenized_X_train = tokenize(X_train)\n",
        "tokenized_X_valid = tokenize(X_valid)\n",
        "tokenized_X_test = tokenize(X_test)"
      ]
    },
    {
      "cell_type": "code",
      "execution_count": 24,
      "metadata": {
        "colab": {
          "base_uri": "https://localhost:8080/"
        },
        "id": "VWjBd9uGKLxk",
        "outputId": "ce78e552-6f36-4da6-c9ae-b1e4db4900b0"
      },
      "outputs": [
        {
          "name": "stdout",
          "output_type": "stream",
          "text": [
            "['i', 'saw', 'this', 'at', 'the', 'san', 'francisco', 'independent', 'film', 'festival', 'and', 'liked', 'it', 'a', 'lot', '.', 'it', 'worked', 'for', 'me', 'as', 'a', 'slightly', 'weird', 'comedy', ',', 'because', 'i', 'do', \"n't\", 'like', 'horror', ',', 'but', 'there', 'were', 'only', 'a', 'couple', 'of', 'minutes', 'i', 'had', 'to', 'close', 'my', 'eyes.', '<', 'br', '/', '>', '<', 'br', '/', '>', 'the', 'dialog', 'was', 'good', ',', 'the', 'costumes', 'and', 'settings', 'were', 'not', 'far', 'off', 'bbc-quality', ',', 'which', 'is', 'amazing', 'for', 'an', 'indie', 'film', '.', 'i', 'liked', 'the', 'way', 'the', 'plot', 'twists', 'and', 'even', 'meanders', ',', 'it', 'kept', 'surprising', 'me', 'in', 'good', 'ways', '.', 'i', 'even', 'warmed', 'up', 'to', 'the', 'willy', 'grimes', 'character', ',', 'who', 'i', 'quite', 'disliked', 'at', 'the', 'beginning', '.', 'it', 'would', 'have', 'been', 'better', 'if', 'there', \"'d\", 'been', 'any', 'motivation', 'for', 'the', 'woman', 'to', 'be', 'so', 'interested', 'in', 'going', 'to', 'the', 'island', ':', 'that', 'felt', 'very', 'much', 'like', 'a', 'plot', 'device.', '<', 'br', '/', '>', '<', 'br', '/', '>', 'i', 'am', 'fond', 'of', 'dominic', 'monaghan', ',', 'and', 'he', 'did', 'a', 'good', 'job', 'at', 'pratfalls', ',', 'horror', ',', 'and', 'at', 'the', 'more', 'thoughtful', 'moments', '.', 'nice', 'voice', 'in', 'the', 'narration', ',', 'too.', '<', 'br', '/', '>', '<', 'br', '/', '>', 'this', 'would', 'be', 'a', 'fun', 'and', 'unusual', 'date', 'movie', '.']\n",
            "['this', 'movie', 'pretty', 'much', 'surprised', 'me', '.', 'i', 'did', \"n't\", 'have', 'very', 'high', 'expectations', 'for', 'it', 'but', 'i', 'was', 'wrong', '.', 'mary', '&', 'rhoda', 'was', 'very', 'funny', 'and', 'well', 'written', '.', 'they', 'did', \"n't\", 'spend', 'too', 'much', 'time', 'rehashing', 'the', 'past', 'so', 'they', 'were', \"n't\", 'relying', 'on', 'the', 'success', 'of', 'the', 'old', 'tv', 'show', 'to', 'carry', 'the', 'movie', '.', 'overall', 'it', 'was', 'very', 'entertaining.', '<', 'br', '/', '>', '<', 'br', '/', '>', 'my', 'girlfriend', 'commented', 'that', 'this', 'could', 'be', 'a', 'weekly', 'sit-com', 'and', 'i', 'think', 'i', 'might', 'agree', 'with', 'her', '.']\n"
          ]
        }
      ],
      "source": [
        "# 상위 샘플 2개 출력\n",
        "for sent in tokenized_X_train[:2]:\n",
        "  print(sent)"
      ]
    },
    {
      "cell_type": "markdown",
      "metadata": {
        "id": "IHMGOI-s2BDC"
      },
      "source": [
        "[2] Vocab 생성<hr>"
      ]
    },
    {
      "cell_type": "code",
      "execution_count": 25,
      "metadata": {
        "colab": {
          "base_uri": "https://localhost:8080/"
        },
        "id": "QZEEIF_qD-fG",
        "outputId": "5fa773eb-6aed-4e81-fd11-de63d3ac344b"
      },
      "outputs": [
        {
          "name": "stdout",
          "output_type": "stream",
          "text": [
            "총 단어수 : 100843\n"
          ]
        }
      ],
      "source": [
        "## 단어 추출 후 단어 빈도 계산\n",
        "word_list = []\n",
        "for sent in tokenized_X_train:\n",
        "    for word in sent:\n",
        "      word_list.append(word)\n",
        "\n",
        "word_counts = Counter(word_list)\n",
        "print('총 단어수 :', len(word_counts))"
      ]
    },
    {
      "cell_type": "code",
      "execution_count": 26,
      "metadata": {
        "colab": {
          "base_uri": "https://localhost:8080/"
        },
        "id": "p6ReK6csFUDM",
        "outputId": "50062270-3f3a-42e6-dd89-45a0c7ba5b06"
      },
      "outputs": [
        {
          "name": "stdout",
          "output_type": "stream",
          "text": [
            "훈련 데이터에서의 단어 the의 등장 횟수 : 265162\n",
            "훈련 데이터에서의 단어 love의 등장 횟수 : 5175\n"
          ]
        }
      ],
      "source": [
        "print('훈련 데이터에서의 단어 the의 등장 횟수 :', word_counts['the'])\n",
        "print('훈련 데이터에서의 단어 love의 등장 횟수 :', word_counts['love'])"
      ]
    },
    {
      "cell_type": "code",
      "execution_count": 27,
      "metadata": {
        "colab": {
          "base_uri": "https://localhost:8080/"
        },
        "id": "hKWcxnzqE7f9",
        "outputId": "e17171c2-dbb4-44d0-aadb-e250e7c0c1d8"
      },
      "outputs": [
        {
          "name": "stdout",
          "output_type": "stream",
          "text": [
            "등장 빈도수 상위 10개 단어\n",
            "['the', ',', '.', 'and', 'a', 'of', 'to', 'is', '/', '>']\n",
            "등장 빈도수 하위 10개 단어\n",
            "['mattew', 'accussed', 'splended', 'craddle', 'would-be-girlfriend', 'miranda.', 'pain-filled', 'oppressor', 'claudiuses.', 'mariners']\n"
          ]
        }
      ],
      "source": [
        "vocab = sorted(word_counts, key=word_counts.get, reverse=True)\n",
        "print('등장 빈도수 상위 10개 단어')\n",
        "print(vocab[:10])\n",
        "\n",
        "print('등장 빈도수 하위 10개 단어')\n",
        "print(vocab[-10:])"
      ]
    },
    {
      "cell_type": "code",
      "execution_count": 28,
      "metadata": {
        "colab": {
          "base_uri": "https://localhost:8080/"
        },
        "id": "g9AF-0EYF4KQ",
        "outputId": "dd326c1a-8cc6-4856-a519-2d18d2ee6b76"
      },
      "outputs": [
        {
          "name": "stdout",
          "output_type": "stream",
          "text": [
            "단어 집합(vocabulary)의 크기 : 100843\n",
            "등장 빈도가 2번 이하인 희귀 단어의 수: 62207\n",
            "단어 집합에서 희귀 단어의 비율: 61.68697876897752\n",
            "전체 등장 빈도에서 희귀 단어 등장 빈도 비율: 1.331461275349642\n"
          ]
        }
      ],
      "source": [
        "threshold  = 3\n",
        "total_cnt  = len(word_counts) # 단어의 수\n",
        "rare_cnt   = 0 # 등장 빈도수가 threshold보다 작은 단어의 개수를 카운트\n",
        "total_freq = 0 # 훈련 데이터의 전체 단어 빈도수 총 합\n",
        "rare_freq  = 0 # 등장 빈도수가 threshold보다 작은 단어의 등장 빈도수의 총 합\n",
        "\n",
        "# 단어와 빈도수의 쌍(pair)을 key와 value로 받는다.\n",
        "for key, value in word_counts.items():\n",
        "    total_freq = total_freq + value\n",
        "\n",
        "    # 단어의 등장 빈도수가 threshold보다 작으면\n",
        "    if(value < threshold):\n",
        "        rare_cnt = rare_cnt + 1\n",
        "        rare_freq = rare_freq + value\n",
        "\n",
        "print('단어 집합(vocabulary)의 크기 :',total_cnt)\n",
        "print('등장 빈도가 %s번 이하인 희귀 단어의 수: %s'%(threshold - 1, rare_cnt))\n",
        "print(\"단어 집합에서 희귀 단어의 비율:\", (rare_cnt / total_cnt)*100)\n",
        "print(\"전체 등장 빈도에서 희귀 단어 등장 빈도 비율:\", (rare_freq / total_freq)*100)"
      ]
    },
    {
      "cell_type": "code",
      "execution_count": 29,
      "metadata": {
        "colab": {
          "base_uri": "https://localhost:8080/"
        },
        "id": "mQlsVCqXGpx7",
        "outputId": "565640b6-a2d9-4e95-fa96-38a5bdf62f9a"
      },
      "outputs": [
        {
          "name": "stdout",
          "output_type": "stream",
          "text": [
            "단어 집합의 크기 : 38636\n"
          ]
        }
      ],
      "source": [
        "# 전체 단어 개수 중 빈도수 2이하인 단어는 제거.\n",
        "vocab_size = total_cnt - rare_cnt\n",
        "vocab = vocab[:vocab_size]\n",
        "print('단어 집합의 크기 :', len(vocab))"
      ]
    },
    {
      "cell_type": "code",
      "execution_count": 30,
      "metadata": {
        "id": "lbkCK_BoFwai"
      },
      "outputs": [],
      "source": [
        "## 단어사전 => 벡터 정수화\n",
        "word_to_index = {}\n",
        "word_to_index['<PAD>'] = 0\n",
        "word_to_index['<UNK>'] = 1"
      ]
    },
    {
      "cell_type": "code",
      "execution_count": 31,
      "metadata": {
        "id": "02Fl4iXVG8cg"
      },
      "outputs": [],
      "source": [
        "for index, word in enumerate(vocab) :\n",
        "  word_to_index[word] = index + 2"
      ]
    },
    {
      "cell_type": "code",
      "execution_count": 32,
      "metadata": {
        "colab": {
          "base_uri": "https://localhost:8080/"
        },
        "id": "ezyUa7mhHLgE",
        "outputId": "7d15e38b-dc4d-49d9-d30b-82dd18eee0cf"
      },
      "outputs": [
        {
          "name": "stdout",
          "output_type": "stream",
          "text": [
            "패딩 토큰과 UNK 토큰을 고려한 단어 집합의 크기 : 38638\n"
          ]
        }
      ],
      "source": [
        "vocab_size = len(word_to_index)\n",
        "print('패딩 토큰과 UNK 토큰을 고려한 단어 집합의 크기 :', vocab_size)"
      ]
    },
    {
      "cell_type": "code",
      "execution_count": 33,
      "metadata": {
        "colab": {
          "base_uri": "https://localhost:8080/"
        },
        "id": "fHZ-laCAHTSR",
        "outputId": "33776694-64bd-496f-f1e2-1d6806b7d038"
      },
      "outputs": [
        {
          "name": "stdout",
          "output_type": "stream",
          "text": [
            "단어 <PAD>와 맵핑되는 정수 : 0\n",
            "단어 <UNK>와 맵핑되는 정수 : 1\n",
            "단어 the와 맵핑되는 정수 : 2\n"
          ]
        }
      ],
      "source": [
        "print('단어 <PAD>와 맵핑되는 정수 :', word_to_index['<PAD>'])\n",
        "print('단어 <UNK>와 맵핑되는 정수 :', word_to_index['<UNK>'])\n",
        "print('단어 the와 맵핑되는 정수 :', word_to_index['the'])"
      ]
    },
    {
      "cell_type": "markdown",
      "metadata": {
        "id": "8_UpLJZ718dl"
      },
      "source": [
        "# 3. 정수 인코딩"
      ]
    },
    {
      "cell_type": "code",
      "execution_count": 34,
      "metadata": {
        "id": "LVaMaNbrNK7f"
      },
      "outputs": [],
      "source": [
        "## 문장단위 추출 후 단어들을 정수로 인코딩 진행 함수\n",
        "def texts_to_sequences(tokenized_X_data, word_to_index):\n",
        "  encoded_X_data = []\n",
        "  for sent in tokenized_X_data:\n",
        "    index_sequences = []\n",
        "    for word in sent:\n",
        "      try:\n",
        "          index_sequences.append(word_to_index[word])\n",
        "      except KeyError:\n",
        "          index_sequences.append(word_to_index['<UNK>'])\n",
        "    encoded_X_data.append(index_sequences)\n",
        "  return encoded_X_data"
      ]
    },
    {
      "cell_type": "code",
      "execution_count": 35,
      "metadata": {
        "id": "naNVKF_cHfLV"
      },
      "outputs": [],
      "source": [
        "encoded_X_train = texts_to_sequences(tokenized_X_train, word_to_index)\n",
        "encoded_X_valid = texts_to_sequences(tokenized_X_valid, word_to_index)\n",
        "encoded_X_test = texts_to_sequences(tokenized_X_test, word_to_index)"
      ]
    },
    {
      "cell_type": "code",
      "execution_count": 36,
      "metadata": {
        "colab": {
          "base_uri": "https://localhost:8080/"
        },
        "id": "ohxvPgUtOW_c",
        "outputId": "5617d19f-0f88-46ed-c4c5-6f5af344aca5"
      },
      "outputs": [
        {
          "name": "stdout",
          "output_type": "stream",
          "text": [
            "[16, 221, 17, 42, 2, 3073, 4479, 1744, 26, 1494, 5, 427, 14, 6, 183, 4, 14, 927, 23, 85, 21, 6, 1028, 885, 224, 3, 105, 16, 54, 31, 50, 212, 3, 25, 51, 82, 76, 6, 380, 7, 238, 16, 81, 8, 572, 69, 11580, 12, 13, 10, 11, 12, 13, 10, 11, 2, 759, 20, 63, 3, 2, 1436, 5, 2926, 82, 34, 242, 143, 1, 3, 75, 9, 517, 23, 46, 2728, 26, 4, 16, 427, 2, 114, 2, 135, 1236, 5, 71, 10218, 3, 14, 750, 1756, 85, 15, 63, 799, 4, 16, 71, 14117, 70, 8, 2, 8002, 15501, 123, 3, 47, 16, 196, 4669, 42, 2, 449, 4, 14, 67, 38, 96, 142, 57, 51, 287, 96, 115, 3744, 23, 2, 257, 8, 39, 49, 867, 15, 187, 8, 2, 935, 91, 18, 433, 66, 92, 50, 6, 135, 28173, 12, 13, 10, 11, 12, 13, 10, 11, 16, 246, 4670, 7, 7831, 15502, 3, 5, 36, 84, 6, 63, 308, 42, 18400, 3, 212, 3, 5, 42, 2, 65, 4671, 396, 4, 331, 616, 15, 2, 2508, 3, 3926, 12, 13, 10, 11, 12, 13, 10, 11, 17, 67, 39, 6, 262, 5, 1801, 1411, 24, 4]\n",
            "[17, 24, 198, 92, 774, 85, 4, 16, 84, 31, 38, 66, 339, 1441, 23, 14, 25, 16, 20, 374, 4, 1190, 182, 21090, 20, 66, 171, 5, 93, 458, 4, 44, 84, 31, 1136, 116, 92, 74, 17360, 2, 506, 49, 44, 82, 31, 8502, 30, 2, 1024, 7, 2, 186, 263, 136, 8, 1569, 2, 24, 4, 451, 14, 20, 66, 6629, 12, 13, 10, 11, 12, 13, 10, 11, 69, 987, 3813, 18, 17, 95, 39, 6, 8166, 21091, 5, 16, 120, 16, 240, 965, 22, 56, 4]\n"
          ]
        }
      ],
      "source": [
        "# 상위 샘플 2개 출력\n",
        "for sent in encoded_X_train[:2]:\n",
        "  print(sent)"
      ]
    },
    {
      "cell_type": "code",
      "execution_count": null,
      "metadata": {
        "id": "lhr_85Dr8kON"
      },
      "outputs": [],
      "source": [
        "## 정수 => 단어 변환 사전 (예: 영한사전, 기계어 자연어 사전)\n",
        "index_to_word = {}\n",
        "for key, value in word_to_index.items():\n",
        "    index_to_word[value] = key"
      ]
    },
    {
      "cell_type": "code",
      "execution_count": 38,
      "metadata": {
        "colab": {
          "base_uri": "https://localhost:8080/"
        },
        "id": "1_nMlq1LO2Is",
        "outputId": "e5e4c031-9b3b-4c7e-d860-bf354b017b5b"
      },
      "outputs": [
        {
          "name": "stdout",
          "output_type": "stream",
          "text": [
            "기존의 첫번째 샘플 : ['i', 'saw', 'this', 'at', 'the', 'san', 'francisco', 'independent', 'film', 'festival', 'and', 'liked', 'it', 'a', 'lot', '.', 'it', 'worked', 'for', 'me', 'as', 'a', 'slightly', 'weird', 'comedy', ',', 'because', 'i', 'do', \"n't\", 'like', 'horror', ',', 'but', 'there', 'were', 'only', 'a', 'couple', 'of', 'minutes', 'i', 'had', 'to', 'close', 'my', 'eyes.', '<', 'br', '/', '>', '<', 'br', '/', '>', 'the', 'dialog', 'was', 'good', ',', 'the', 'costumes', 'and', 'settings', 'were', 'not', 'far', 'off', 'bbc-quality', ',', 'which', 'is', 'amazing', 'for', 'an', 'indie', 'film', '.', 'i', 'liked', 'the', 'way', 'the', 'plot', 'twists', 'and', 'even', 'meanders', ',', 'it', 'kept', 'surprising', 'me', 'in', 'good', 'ways', '.', 'i', 'even', 'warmed', 'up', 'to', 'the', 'willy', 'grimes', 'character', ',', 'who', 'i', 'quite', 'disliked', 'at', 'the', 'beginning', '.', 'it', 'would', 'have', 'been', 'better', 'if', 'there', \"'d\", 'been', 'any', 'motivation', 'for', 'the', 'woman', 'to', 'be', 'so', 'interested', 'in', 'going', 'to', 'the', 'island', ':', 'that', 'felt', 'very', 'much', 'like', 'a', 'plot', 'device.', '<', 'br', '/', '>', '<', 'br', '/', '>', 'i', 'am', 'fond', 'of', 'dominic', 'monaghan', ',', 'and', 'he', 'did', 'a', 'good', 'job', 'at', 'pratfalls', ',', 'horror', ',', 'and', 'at', 'the', 'more', 'thoughtful', 'moments', '.', 'nice', 'voice', 'in', 'the', 'narration', ',', 'too.', '<', 'br', '/', '>', '<', 'br', '/', '>', 'this', 'would', 'be', 'a', 'fun', 'and', 'unusual', 'date', 'movie', '.']\n",
            "복원된 첫번째 샘플 : ['i', 'saw', 'this', 'at', 'the', 'san', 'francisco', 'independent', 'film', 'festival', 'and', 'liked', 'it', 'a', 'lot', '.', 'it', 'worked', 'for', 'me', 'as', 'a', 'slightly', 'weird', 'comedy', ',', 'because', 'i', 'do', \"n't\", 'like', 'horror', ',', 'but', 'there', 'were', 'only', 'a', 'couple', 'of', 'minutes', 'i', 'had', 'to', 'close', 'my', 'eyes.', '<', 'br', '/', '>', '<', 'br', '/', '>', 'the', 'dialog', 'was', 'good', ',', 'the', 'costumes', 'and', 'settings', 'were', 'not', 'far', 'off', '<UNK>', ',', 'which', 'is', 'amazing', 'for', 'an', 'indie', 'film', '.', 'i', 'liked', 'the', 'way', 'the', 'plot', 'twists', 'and', 'even', 'meanders', ',', 'it', 'kept', 'surprising', 'me', 'in', 'good', 'ways', '.', 'i', 'even', 'warmed', 'up', 'to', 'the', 'willy', 'grimes', 'character', ',', 'who', 'i', 'quite', 'disliked', 'at', 'the', 'beginning', '.', 'it', 'would', 'have', 'been', 'better', 'if', 'there', \"'d\", 'been', 'any', 'motivation', 'for', 'the', 'woman', 'to', 'be', 'so', 'interested', 'in', 'going', 'to', 'the', 'island', ':', 'that', 'felt', 'very', 'much', 'like', 'a', 'plot', 'device.', '<', 'br', '/', '>', '<', 'br', '/', '>', 'i', 'am', 'fond', 'of', 'dominic', 'monaghan', ',', 'and', 'he', 'did', 'a', 'good', 'job', 'at', 'pratfalls', ',', 'horror', ',', 'and', 'at', 'the', 'more', 'thoughtful', 'moments', '.', 'nice', 'voice', 'in', 'the', 'narration', ',', 'too.', '<', 'br', '/', '>', '<', 'br', '/', '>', 'this', 'would', 'be', 'a', 'fun', 'and', 'unusual', 'date', 'movie', '.']\n"
          ]
        }
      ],
      "source": [
        "decoded_sample = [index_to_word[word] for word in encoded_X_train[0]]\n",
        "print('기존의 첫번째 샘플 :', tokenized_X_train[0])\n",
        "print('복원된 첫번째 샘플 :', decoded_sample)"
      ]
    },
    {
      "cell_type": "markdown",
      "metadata": {
        "id": "iJfmo1p712QY"
      },
      "source": [
        "# 4. 패딩"
      ]
    },
    {
      "cell_type": "code",
      "execution_count": 39,
      "metadata": {
        "colab": {
          "base_uri": "https://localhost:8080/",
          "height": 486
        },
        "id": "X2Z-vsg2RR5Y",
        "outputId": "99ab9c13-c8c1-461d-967e-c4295d37ddcc"
      },
      "outputs": [
        {
          "name": "stdout",
          "output_type": "stream",
          "text": [
            "리뷰의 최대 길이 : 2818\n",
            "리뷰의 평균 길이 : 279.4073\n"
          ]
        },
        {
          "data": {
            "image/png": "[encoded data removed]",
            "text/plain": [
              "<Figure size 640x480 with 1 Axes>"
            ]
          },
          "metadata": {},
          "output_type": "display_data"
        }
      ],
      "source": [
        "print('리뷰의 최대 길이 :',max(len(review) for review in encoded_X_train))\n",
        "print('리뷰의 평균 길이 :',sum(map(len, encoded_X_train))/len(encoded_X_train))\n",
        "plt.hist([len(review) for review in encoded_X_train], bins=50)\n",
        "plt.xlabel('length of samples')\n",
        "plt.ylabel('number of samples')\n",
        "plt.show()"
      ]
    },
    {
      "cell_type": "code",
      "execution_count": 40,
      "metadata": {
        "id": "lNNBryATRdfX"
      },
      "outputs": [],
      "source": [
        "def below_threshold_len(max_len, nested_list):\n",
        "  count = 0\n",
        "  for sentence in nested_list:\n",
        "    if(len(sentence) <= max_len):\n",
        "        count = count + 1\n",
        "  print('전체 샘플 중 길이가 %s 이하인 샘플의 비율: %s'%(max_len, (count / len(nested_list))*100))"
      ]
    },
    {
      "cell_type": "code",
      "execution_count": 41,
      "metadata": {
        "colab": {
          "base_uri": "https://localhost:8080/"
        },
        "id": "OcdICmlrRe8N",
        "outputId": "722902aa-4b2f-4b38-9fe0-427ef2d0c08b"
      },
      "outputs": [
        {
          "name": "stdout",
          "output_type": "stream",
          "text": [
            "전체 샘플 중 길이가 500 이하인 샘플의 비율: 87.925\n"
          ]
        }
      ],
      "source": [
        "max_len = 500\n",
        "below_threshold_len(max_len, encoded_X_train)"
      ]
    },
    {
      "cell_type": "code",
      "execution_count": 42,
      "metadata": {
        "id": "zYBpbc9KO57D"
      },
      "outputs": [],
      "source": [
        "def pad_sequences(sentences, max_len):\n",
        "  features = np.zeros((len(sentences), max_len), dtype=int)\n",
        "  for index, sentence in enumerate(sentences):\n",
        "    if len(sentence) != 0:\n",
        "      features[index, :len(sentence)] = np.array(sentence)[:max_len]\n",
        "  return features"
      ]
    },
    {
      "cell_type": "code",
      "execution_count": 43,
      "metadata": {
        "id": "S3JE5LlaP4nd"
      },
      "outputs": [],
      "source": [
        "padded_X_train = pad_sequences(encoded_X_train, max_len=max_len)\n",
        "padded_X_valid = pad_sequences(encoded_X_valid, max_len=max_len)\n",
        "padded_X_test = pad_sequences(encoded_X_test, max_len=max_len)"
      ]
    },
    {
      "cell_type": "code",
      "execution_count": 44,
      "metadata": {
        "colab": {
          "base_uri": "https://localhost:8080/"
        },
        "id": "KPO7pI1zRvIj",
        "outputId": "b60ac60c-0cdf-4743-a384-519095b53e84"
      },
      "outputs": [
        {
          "name": "stdout",
          "output_type": "stream",
          "text": [
            "훈련 데이터의 크기 : (20000, 500)\n",
            "검증 데이터의 크기 : (5000, 500)\n",
            "테스트 데이터의 크기 : (25000, 500)\n"
          ]
        }
      ],
      "source": [
        "print('훈련 데이터의 크기 :', padded_X_train.shape)\n",
        "print('검증 데이터의 크기 :', padded_X_valid.shape)\n",
        "print('테스트 데이터의 크기 :', padded_X_test.shape)"
      ]
    },
    {
      "cell_type": "code",
      "execution_count": 45,
      "metadata": {
        "colab": {
          "base_uri": "https://localhost:8080/"
        },
        "id": "jFS_GHLC2JaK",
        "outputId": "e9170602-41a1-47f7-f248-807eb60d6b16"
      },
      "outputs": [
        {
          "name": "stdout",
          "output_type": "stream",
          "text": [
            "(20000, 500)\n"
          ]
        }
      ],
      "source": [
        "print(padded_X_train.shape[:2])"
      ]
    },
    {
      "cell_type": "markdown",
      "metadata": {
        "id": "8uY01jg02LPr"
      },
      "source": [
        "# 5. 모델링"
      ]
    },
    {
      "cell_type": "code",
      "execution_count": 46,
      "metadata": {
        "id": "D456gIFvSEnt"
      },
      "outputs": [],
      "source": [
        "import torch\n",
        "import torch.nn as nn\n",
        "import torch.nn.functional as F"
      ]
    },
    {
      "cell_type": "code",
      "execution_count": 47,
      "metadata": {
        "id": "kVuOnJ_XiTsY"
      },
      "outputs": [],
      "source": [
        "train_label_tensor = torch.tensor(np.array(y_train))\n",
        "valid_label_tensor = torch.tensor(np.array(y_valid))\n",
        "test_label_tensor = torch.tensor(np.array(y_test))"
      ]
    },
    {
      "cell_type": "code",
      "execution_count": 48,
      "metadata": {
        "colab": {
          "base_uri": "https://localhost:8080/"
        },
        "id": "RkTBCBx0i1zq",
        "outputId": "da0e31a8-2b95-4ada-e8ae-b3f3d9f377fc"
      },
      "outputs": [
        {
          "data": {
            "text/plain": [
              "tensor([1, 1, 0, 0, 0])"
            ]
          },
          "execution_count": 48,
          "metadata": {},
          "output_type": "execute_result"
        }
      ],
      "source": [
        "train_label_tensor[:5]"
      ]
    },
    {
      "cell_type": "code",
      "execution_count": 49,
      "metadata": {
        "colab": {
          "base_uri": "https://localhost:8080/"
        },
        "id": "1MN7ksRjiZfq",
        "outputId": "74f4b883-321b-437b-e2ff-d8ad6b83f646"
      },
      "outputs": [
        {
          "name": "stdout",
          "output_type": "stream",
          "text": [
            "cpu와 cuda 중 다음 기기로 학습함: cpu\n"
          ]
        }
      ],
      "source": [
        "USE_CUDA = torch.cuda.is_available()\n",
        "device = torch.device(\"cuda\" if USE_CUDA else \"cpu\")\n",
        "print(\"cpu와 cuda 중 다음 기기로 학습함:\", device)"
      ]
    },
    {
      "cell_type": "code",
      "execution_count": 50,
      "metadata": {
        "colab": {
          "base_uri": "https://localhost:8080/"
        },
        "id": "97V9YJ3Md12C",
        "outputId": "d3445455-83f2-4186-fb25-9df599366910"
      },
      "outputs": [
        {
          "name": "stdout",
          "output_type": "stream",
          "text": [
            "torch.Size([32, 33, 48])\n"
          ]
        }
      ],
      "source": [
        "# input.shape == (배치 크기, 임베딩 벡터의 차원, 문장 길이)\n",
        "input = torch.randn(32, 16, 50)\n",
        "\n",
        "# 선언 시 nn.Conv1d(임베딩 벡터의 차원, 커널의 개수, 커널 사이즈)\n",
        "m = nn.Conv1d(16, 33, 3, stride=1)\n",
        "\n",
        "# output.shape == (배치 크기, 커널의 개수, 컨볼루션 연산 결과 벡터)\n",
        "output = m(input)\n",
        "print(output.shape)"
      ]
    },
    {
      "cell_type": "code",
      "execution_count": 51,
      "metadata": {
        "id": "lS2xHc5Oil_B"
      },
      "outputs": [],
      "source": [
        "class CNN(torch.nn.Module):\n",
        "  def __init__(self, vocab_size, num_labels):\n",
        "    super(CNN, self).__init__()\n",
        "\n",
        "    # 오직 하나의 종류의 필터만 사용함.\n",
        "    self.num_filter_sizes = 1 # 윈도우 5짜리 1개만 사용\n",
        "    self.num_filters = 256\n",
        "\n",
        "    self.word_embed = torch.nn.Embedding(num_embeddings=vocab_size, embedding_dim=128, padding_idx=0)\n",
        "    # 윈도우 5짜리 1개만 사용\n",
        "    self.conv1 = torch.nn.Conv1d(128, self.num_filters, 5, stride=1)\n",
        "    self.dropout = torch.nn.Dropout(0.5)\n",
        "    self.fc1 = torch.nn.Linear(1 * self.num_filters, num_labels, bias=True)\n",
        "\n",
        "  def forward(self, inputs):\n",
        "    # word_embed(inputs).shape == (배치 크기, 문장길이, 임베딩 벡터의 차원)\n",
        "    # word_embed(inputs).permute(0, 2, 1).shape == (배치 크기, 임베딩 벡터의 차원, 문장 길이)\n",
        "    embedded = self.word_embed(inputs).permute(0, 2, 1)\n",
        "\n",
        "    # max를 이용한 maxpooling\n",
        "    # conv1(embedded).shape == (배치 크기, 커널 개수, 컨볼루션 연산 결과) == ex) 32, 256, 496\n",
        "    # conv1(embedded).permute(0, 2, 1).shape == (배치 크기, 컨볼루션 연산 결과, 커널 개수)\n",
        "    # conv1(embedded).permute(0, 2, 1).max(1)[0]).shape == (배치 크기, 커널 개수)\n",
        "    x = F.relu(self.conv1(embedded).permute(0, 2, 1).max(1)[0])\n",
        "\n",
        "    # y_pred.shape == (배치 크기, 분류할 카테고리의 수)\n",
        "    y_pred = self.fc1(self.dropout(x))\n",
        "\n",
        "    return y_pred"
      ]
    },
    {
      "cell_type": "code",
      "execution_count": 52,
      "metadata": {
        "id": "8a_BS2YIinvi"
      },
      "outputs": [],
      "source": [
        "encoded_train = torch.tensor(padded_X_train).to(torch.int64)\n",
        "train_dataset = torch.utils.data.TensorDataset(encoded_train, train_label_tensor)\n",
        "train_dataloader = torch.utils.data.DataLoader(train_dataset, shuffle=True, batch_size=32)\n",
        "\n",
        "encoded_test = torch.tensor(padded_X_test).to(torch.int64)\n",
        "test_dataset = torch.utils.data.TensorDataset(encoded_test, test_label_tensor)\n",
        "test_dataloader = torch.utils.data.DataLoader(test_dataset, shuffle=True, batch_size=1)\n",
        "\n",
        "encoded_valid = torch.tensor(padded_X_valid).to(torch.int64)\n",
        "valid_dataset = torch.utils.data.TensorDataset(encoded_valid, valid_label_tensor)\n",
        "valid_dataloader = torch.utils.data.DataLoader(valid_dataset, shuffle=True, batch_size=1)"
      ]
    },
    {
      "cell_type": "code",
      "execution_count": 53,
      "metadata": {
        "colab": {
          "base_uri": "https://localhost:8080/"
        },
        "id": "7cpRQZPloi0W",
        "outputId": "f1ab865c-3719-4c6d-8455-061d72801d06"
      },
      "outputs": [
        {
          "name": "stdout",
          "output_type": "stream",
          "text": [
            "총 배치의 수 : 625\n"
          ]
        }
      ],
      "source": [
        "num_epochs = 5\n",
        "total_batch = len(train_dataloader)\n",
        "print('총 배치의 수 : {}'.format(total_batch))"
      ]
    },
    {
      "cell_type": "code",
      "execution_count": 54,
      "metadata": {
        "colab": {
          "base_uri": "https://localhost:8080/"
        },
        "id": "W7iBP5LA2aNb",
        "outputId": "143bbcf9-f96a-4de4-a1dd-650eb0eb825a"
      },
      "outputs": [
        {
          "data": {
            "text/plain": [
              "CNN(\n",
              "  (word_embed): Embedding(38638, 128, padding_idx=0)\n",
              "  (conv1): Conv1d(128, 256, kernel_size=(5,), stride=(1,))\n",
              "  (dropout): Dropout(p=0.5, inplace=False)\n",
              "  (fc1): Linear(in_features=256, out_features=2, bias=True)\n",
              ")"
            ]
          },
          "execution_count": 54,
          "metadata": {},
          "output_type": "execute_result"
        }
      ],
      "source": [
        "model = CNN(vocab_size, num_labels = len(set(y_train)))\n",
        "model.to(device)"
      ]
    },
    {
      "cell_type": "code",
      "execution_count": 55,
      "metadata": {
        "id": "tiWsS72a2c9x"
      },
      "outputs": [],
      "source": [
        "criterion = nn.CrossEntropyLoss()\n",
        "optimizer = torch.optim.Adam(model.parameters(), lr=0.001)"
      ]
    },
    {
      "cell_type": "code",
      "execution_count": 56,
      "metadata": {
        "id": "GdDscgkD2e4j"
      },
      "outputs": [],
      "source": [
        "def calculate_accuracy(logits, labels):\n",
        "    # _, predicted = torch.max(logits, 1)\n",
        "    predicted = torch.argmax(logits, dim=1)\n",
        "    correct = (predicted == labels).sum().item()\n",
        "    total = labels.size(0)\n",
        "    accuracy = correct / total\n",
        "    return accuracy"
      ]
    },
    {
      "cell_type": "code",
      "execution_count": 57,
      "metadata": {
        "id": "UVHcwBOM2gfI"
      },
      "outputs": [],
      "source": [
        "def evaluate(model, valid_dataloader, criterion, device):\n",
        "    val_loss = 0\n",
        "    val_correct = 0\n",
        "    val_total = 0\n",
        "\n",
        "    model.eval()\n",
        "    with torch.no_grad():\n",
        "        # 데이터로더로부터 배치 크기만큼의 데이터를 연속으로 로드\n",
        "        for batch_X, batch_y in valid_dataloader:\n",
        "            batch_X, batch_y = batch_X.to(device), batch_y.to(device)\n",
        "\n",
        "            # 모델의 예측값\n",
        "            logits = model(batch_X)\n",
        "\n",
        "            # 손실을 계산\n",
        "            loss = criterion(logits, batch_y)\n",
        "\n",
        "            # 정확도와 손실을 계산함\n",
        "            val_loss += loss.item()\n",
        "            val_correct += calculate_accuracy(logits, batch_y) * batch_y.size(0)\n",
        "            val_total += batch_y.size(0)\n",
        "\n",
        "    val_accuracy = val_correct / val_total\n",
        "    val_loss /= len(valid_dataloader)\n",
        "\n",
        "    return val_loss, val_accuracy"
      ]
    },
    {
      "cell_type": "code",
      "execution_count": 58,
      "metadata": {
        "colab": {
          "base_uri": "https://localhost:8080/"
        },
        "id": "Oziplu2E2isb",
        "outputId": "fe70f765-49ce-44f1-ba89-d9190d88cd14"
      },
      "outputs": [
        {
          "name": "stdout",
          "output_type": "stream",
          "text": [
            "Epoch 1/5:\n",
            "Train Loss: 0.6591, Train Accuracy: 0.6379\n",
            "Validation Loss: 0.4589, Validation Accuracy: 0.7962\n",
            "Validation loss improved from inf to 0.4589. 체크포인트를 저장합니다.\n",
            "Epoch 2/5:\n",
            "Train Loss: 0.4996, Train Accuracy: 0.7570\n",
            "Validation Loss: 0.3806, Validation Accuracy: 0.8322\n",
            "Validation loss improved from 0.4589 to 0.3806. 체크포인트를 저장합니다.\n",
            "Epoch 3/5:\n",
            "Train Loss: 0.4054, Train Accuracy: 0.8127\n",
            "Validation Loss: 0.3272, Validation Accuracy: 0.8626\n",
            "Validation loss improved from 0.3806 to 0.3272. 체크포인트를 저장합니다.\n",
            "Epoch 4/5:\n",
            "Train Loss: 0.3197, Train Accuracy: 0.8605\n",
            "Validation Loss: 0.3353, Validation Accuracy: 0.8552\n",
            "Epoch 5/5:\n",
            "Train Loss: 0.2362, Train Accuracy: 0.9041\n",
            "Validation Loss: 0.3167, Validation Accuracy: 0.8684\n",
            "Validation loss improved from 0.3272 to 0.3167. 체크포인트를 저장합니다.\n"
          ]
        }
      ],
      "source": [
        "# Training loop\n",
        "best_val_loss = float('inf')\n",
        "\n",
        "# Training loop\n",
        "for epoch in range(num_epochs):\n",
        "    # Training\n",
        "    train_loss = 0\n",
        "    train_correct = 0\n",
        "    train_total = 0\n",
        "    model.train()\n",
        "    for batch_X, batch_y in train_dataloader:\n",
        "        # Forward pass\n",
        "        batch_X, batch_y = batch_X.to(device), batch_y.to(device)\n",
        "        # batch_X.shape == (batch_size, max_len)\n",
        "        logits = model(batch_X)\n",
        "\n",
        "        # Compute loss\n",
        "        loss = criterion(logits, batch_y)\n",
        "\n",
        "        # Backward pass and optimization\n",
        "        optimizer.zero_grad()\n",
        "        loss.backward()\n",
        "        optimizer.step()\n",
        "\n",
        "        # Calculate training accuracy and loss\n",
        "        train_loss += loss.item()\n",
        "        train_correct += calculate_accuracy(logits, batch_y) * batch_y.size(0)\n",
        "        train_total += batch_y.size(0)\n",
        "\n",
        "    train_accuracy = train_correct / train_total\n",
        "    train_loss /= len(train_dataloader)\n",
        "\n",
        "    # Validation\n",
        "    val_loss, val_accuracy = evaluate(model, valid_dataloader, criterion, device)\n",
        "\n",
        "    print(f'Epoch {epoch+1}/{num_epochs}:')\n",
        "    print(f'Train Loss: {train_loss:.4f}, Train Accuracy: {train_accuracy:.4f}')\n",
        "    print(f'Validation Loss: {val_loss:.4f}, Validation Accuracy: {val_accuracy:.4f}')\n",
        "\n",
        "    # 검증 손실이 최소일 때 체크포인트 저장\n",
        "    if val_loss < best_val_loss:\n",
        "        print(f'Validation loss improved from {best_val_loss:.4f} to {val_loss:.4f}. 체크포인트를 저장합니다.')\n",
        "        best_val_loss = val_loss\n",
        "        torch.save(model.state_dict(), 'best_model_checkpoint.pth')"
      ]
    },
    {
      "cell_type": "code",
      "execution_count": 59,
      "metadata": {
        "colab": {
          "base_uri": "https://localhost:8080/"
        },
        "id": "MmmMd-OX2mrC",
        "outputId": "896adaba-84af-4e51-89fa-6f8b6b2bfeea"
      },
      "outputs": [
        {
          "name": "stdout",
          "output_type": "stream",
          "text": [
            "Best model validation loss: 0.3167\n",
            "Best model validation accuracy: 0.8684\n"
          ]
        }
      ],
      "source": [
        "# 모델 로드\n",
        "model.load_state_dict(torch.load('best_model_checkpoint.pth'))\n",
        "\n",
        "# 모델을 device에 올립니다.\n",
        "model.to(device)\n",
        "\n",
        "# 검증 데이터에 대한 정확도와 손실 계산\n",
        "val_loss, val_accuracy = evaluate(model, valid_dataloader, criterion, device)\n",
        "\n",
        "print(f'Best model validation loss: {val_loss:.4f}')\n",
        "print(f'Best model validation accuracy: {val_accuracy:.4f}')"
      ]
    },
    {
      "cell_type": "code",
      "execution_count": 60,
      "metadata": {
        "colab": {
          "base_uri": "https://localhost:8080/"
        },
        "id": "vpICwj4g2rCX",
        "outputId": "15830098-1240-4b59-e849-3b9ea2325071"
      },
      "outputs": [
        {
          "name": "stdout",
          "output_type": "stream",
          "text": [
            "Best model test loss: 0.3146\n",
            "Best model test accuracy: 0.8670\n"
          ]
        }
      ],
      "source": [
        "# 테스트 데이터에 대한 정확도와 손실 계산\n",
        "test_loss, test_accuracy = evaluate(model, test_dataloader, criterion, device)\n",
        "\n",
        "print(f'Best model test loss: {test_loss:.4f}')\n",
        "print(f'Best model test accuracy: {test_accuracy:.4f}')"
      ]
    },
    {
      "cell_type": "code",
      "execution_count": 61,
      "metadata": {
        "id": "39IfAtW42svl"
      },
      "outputs": [],
      "source": [
        "index_to_tag = {0 : '부정', 1 : '긍정'}"
      ]
    },
    {
      "cell_type": "code",
      "execution_count": 62,
      "metadata": {
        "id": "-MxfzI2c2t6X"
      },
      "outputs": [],
      "source": [
        "def predict(text, model, word_to_index, index_to_tag):\n",
        "    # 모델 평가 모드\n",
        "    model.eval()\n",
        "\n",
        "    # 토큰화 및 정수 인코딩. OOV 문제 발생 시 <UNK> 토큰에 해당하는 인덱스 1 할당\n",
        "    tokens = word_tokenize(text)\n",
        "    token_indices = [word_to_index.get(token.lower(), 1) for token in tokens]\n",
        "\n",
        "    # 리스트를 텐서로 변경\n",
        "    input_tensor = torch.tensor([token_indices], dtype=torch.long).to(device)  # (1, seq_length)\n",
        "\n",
        "    # 모델의 예측\n",
        "    with torch.no_grad():\n",
        "        logits = model(input_tensor)  # (1, output_dim)\n",
        "\n",
        "    # 레이블 인덱스 예측\n",
        "    _, predicted_index = torch.max(logits, dim=1)  # (1,)\n",
        "\n",
        "    # 인덱스와 매칭되는 카테고리 문자열로 변경\n",
        "    predicted_tag = index_to_tag[predicted_index.item()]\n",
        "\n",
        "    return predicted_tag"
      ]
    },
    {
      "cell_type": "code",
      "execution_count": 63,
      "metadata": {
        "colab": {
          "base_uri": "https://localhost:8080/",
          "height": 74
        },
        "id": "dAO7VqGH2vTS",
        "outputId": "007dbd5d-8846-42dd-eca5-c1ad6597ca7e"
      },
      "outputs": [
        {
          "data": {
            "text/plain": [
              "'부정'"
            ]
          },
          "execution_count": 63,
          "metadata": {},
          "output_type": "execute_result"
        }
      ],
      "source": [
        "test_input = \"This movie was just way too overrated. The fighting was not professional and in slow motion. I was expecting more from a 200 million budget movie. The little sister of T.Challa was just trying too hard to be funny. The story was really dumb as well. Don't watch this movie if you are going because others say its great unless you are a Black Panther fan or Marvels fan.\"\n",
        "\n",
        "predict(test_input, model, word_to_index, index_to_tag)"
      ]
    },
    {
      "cell_type": "code",
      "execution_count": 64,
      "metadata": {
        "colab": {
          "base_uri": "https://localhost:8080/",
          "height": 74
        },
        "id": "Uy9hqCG32wbv",
        "outputId": "56e9bd88-d161-4ab3-a6c6-9f741f77e5ef"
      },
      "outputs": [
        {
          "data": {
            "text/plain": [
              "'긍정'"
            ]
          },
          "execution_count": 64,
          "metadata": {},
          "output_type": "execute_result"
        }
      ],
      "source": [
        "test_input = \" I was lucky enough to be included in the group to see the advanced screening in Melbourne on the 15th of April, 2012. And, firstly, I need to say a big thank-you to Disney and Marvel Studios. \\\n",
        "Now, the film... how can I even begin to explain how I feel about this film? It is, as the title of this review says a 'comic book triumph'. I went into the film with very, very high expectations and I was not disappointed. \\\n",
        "Seeing Joss Whedon's direction and envisioning of the film come to life on the big screen is perfect. The script is amazingly detailed and laced with sharp wit a humor. The special effects are literally mind-blowing and the action scenes are both hard-hitting and beautifully choreographed.\"\n",
        "\n",
        "predict(test_input, model, word_to_index, index_to_tag)"
      ]
    }
  ],
  "metadata": {
    "accelerator": "GPU",
    "colab": {
      "provenance": []
    },
    "gpuClass": "standard",
    "kernelspec": {
      "display_name": "NLP",
      "language": "python",
      "name": "python3"
    },
    "language_info": {
      "codemirror_mode": {
        "name": "ipython",
        "version": 3
      },
      "file_extension": ".py",
      "mimetype": "text/x-python",
      "name": "python",
      "nbconvert_exporter": "python",
      "pygments_lexer": "ipython3",
      "version": "3.8.20"
    }
  },
  "nbformat": 4,
  "nbformat_minor": 0
}
